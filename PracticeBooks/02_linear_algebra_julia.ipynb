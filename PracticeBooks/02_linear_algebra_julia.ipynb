{
 "cells": [
  {
   "cell_type": "markdown",
   "metadata": {},
   "source": [
    "# Julia- Linear Algebra \n",
    "---\n",
    "\n",
    "In this more math-centric notebook, we will understand how you can leverage Julia to perform all sorts of algrbraic operations, that are a key to a bunch of operations involved in Data Science.\n",
    "\n",
    "## Importing Dependencies\n",
    "---\n",
    "\n",
    "Here are some of the important modules in Julia:\n",
    "\n",
    "* __LinearAlgebra__: As the name suggests, it provides a set of very powerful linear algrebra functions.\n",
    "* __SparseArrays__: Another popular linear algrbra module in Julia\n",
    "* __Images__: Used for handling image data"
   ]
  },
  {
   "cell_type": "code",
   "execution_count": 1,
   "metadata": {},
   "outputs": [],
   "source": [
    "using LinearAlgebra\n",
    "using SparseArrays\n",
    "using Images\n",
    "using MAT"
   ]
  },
  {
   "cell_type": "markdown",
   "metadata": {},
   "source": [
    "For checking the documentation associated with any module or any methods associated with the module, use the '?' help operator."
   ]
  },
  {
   "cell_type": "code",
   "execution_count": 2,
   "metadata": {},
   "outputs": [
    {
     "name": "stdout",
     "output_type": "stream",
     "text": [
      "search: \u001b[0m\u001b[1mL\u001b[22m\u001b[0m\u001b[1mi\u001b[22m\u001b[0m\u001b[1mn\u001b[22m\u001b[0m\u001b[1me\u001b[22m\u001b[0m\u001b[1ma\u001b[22m\u001b[0m\u001b[1mr\u001b[22m\u001b[0m\u001b[1mA\u001b[22m\u001b[0m\u001b[1ml\u001b[22m\u001b[0m\u001b[1mg\u001b[22m\u001b[0m\u001b[1me\u001b[22m\u001b[0m\u001b[1mb\u001b[22m\u001b[0m\u001b[1mr\u001b[22m\u001b[0m\u001b[1ma\u001b[22m\n",
      "\n"
     ]
    },
    {
     "data": {
      "text/latex": [
       "Linear algebra module. Provides array arithmetic, matrix factorizations and other linear algebra related functionality.\n",
       "\n"
      ],
      "text/markdown": [
       "Linear algebra module. Provides array arithmetic, matrix factorizations and other linear algebra related functionality.\n"
      ],
      "text/plain": [
       "  Linear algebra module. Provides array arithmetic, matrix factorizations and\n",
       "  other linear algebra related functionality."
      ]
     },
     "execution_count": 2,
     "metadata": {},
     "output_type": "execute_result"
    }
   ],
   "source": [
    "?LinearAlgebra"
   ]
  },
  {
   "cell_type": "markdown",
   "metadata": {},
   "source": [
    "Now let us see how we can create some arrays using the `LinearAlgebra` module."
   ]
  },
  {
   "cell_type": "code",
   "execution_count": 3,
   "metadata": {},
   "outputs": [
    {
     "data": {
      "text/plain": [
       "3×5 Array{Float64,2}:\n",
       " 0.631873  0.27411   0.0178048  0.776951  0.945021\n",
       " 0.786527  0.593411  0.258996   0.644373  0.773138\n",
       " 0.085794  0.781808  0.966103   0.935955  0.449427"
      ]
     },
     "execution_count": 3,
     "metadata": {},
     "output_type": "execute_result"
    }
   ],
   "source": [
    "# creating a matrix of random numbers\n",
    "arr1 = rand(3,5)"
   ]
  },
  {
   "cell_type": "code",
   "execution_count": 4,
   "metadata": {},
   "outputs": [
    {
     "data": {
      "text/plain": [
       "5×5 Array{Float64,2}:\n",
       "  0.255533   0.392046   0.0185083   0.744757  -1.79027\n",
       " -0.886307  -1.86309    0.762894    1.31321    1.25415\n",
       " -0.328278   0.242044  -0.74273     0.230575  -0.716223\n",
       "  1.62397    0.636272  -1.46299    -0.557447   0.38613\n",
       " -0.796368   0.589645   0.0677677   0.552996   0.367853"
      ]
     },
     "execution_count": 4,
     "metadata": {},
     "output_type": "execute_result"
    }
   ],
   "source": [
    "# creating a matrix of random numbers from standard normal dist\n",
    "arr2 = randn(5,5)"
   ]
  },
  {
   "cell_type": "markdown",
   "metadata": {},
   "source": [
    "Now let us have a look at some of the basic matrix operations that you can perform on matrices/vectors using `LinearAlgebra`."
   ]
  },
  {
   "cell_type": "code",
   "execution_count": 5,
   "metadata": {},
   "outputs": [
    {
     "data": {
      "text/plain": [
       "5×3 Adjoint{Float64,Array{Float64,2}}:\n",
       " 0.631873   0.786527  0.085794\n",
       " 0.27411    0.593411  0.781808\n",
       " 0.0178048  0.258996  0.966103\n",
       " 0.776951   0.644373  0.935955\n",
       " 0.945021   0.773138  0.449427"
      ]
     },
     "execution_count": 5,
     "metadata": {},
     "output_type": "execute_result"
    }
   ],
   "source": [
    "# transpose of a matrix\n",
    "arr1_T = arr1'"
   ]
  },
  {
   "cell_type": "code",
   "execution_count": 6,
   "metadata": {},
   "outputs": [
    {
     "data": {
      "text/plain": [
       "1×10 Adjoint{Float64,Array{Float64,1}}:\n",
       " -2.38514  -0.681694  0.914683  -0.237827  …  -0.829157  0.82008  0.318454"
      ]
     },
     "execution_count": 6,
     "metadata": {},
     "output_type": "execute_result"
    }
   ],
   "source": [
    "# transpose of a vector\n",
    "vec1 = randn(10)\n",
    "vec1_T = vec1'"
   ]
  },
  {
   "cell_type": "code",
   "execution_count": 7,
   "metadata": {},
   "outputs": [
    {
     "data": {
      "text/plain": [
       "5.260814360540369e-16"
      ]
     },
     "execution_count": 7,
     "metadata": {},
     "output_type": "execute_result"
    }
   ],
   "source": [
    "# inverse of a matrix\n",
    "arr2_inv = inv(arr2)\n",
    "\n",
    "# checking if it's an inverse\n",
    "norm(arr2_inv * arr2 - I(5))"
   ]
  },
  {
   "cell_type": "markdown",
   "metadata": {},
   "source": [
    "As we can see, the norm of the matrx __A<sup>-</sup> * A__ and __I__ (identity matrix) is a negligible number."
   ]
  },
  {
   "cell_type": "code",
   "execution_count": 8,
   "metadata": {},
   "outputs": [
    {
     "data": {
      "text/plain": [
       "true"
      ]
     },
     "execution_count": 8,
     "metadata": {},
     "output_type": "execute_result"
    }
   ],
   "source": [
    "# for a real valued matrix, adjoint == transpose\n",
    "adjoint(arr1) == transpose(arr1)"
   ]
  },
  {
   "cell_type": "markdown",
   "metadata": {},
   "source": [
    "Now let us have a look at some of the matrix multiplication operations."
   ]
  },
  {
   "cell_type": "code",
   "execution_count": 9,
   "metadata": {},
   "outputs": [],
   "source": [
    "A = rand(5,5)\n",
    "x = rand(5,4);"
   ]
  },
  {
   "cell_type": "code",
   "execution_count": 10,
   "metadata": {},
   "outputs": [
    {
     "data": {
      "text/plain": [
       "5×4 Array{Float64,2}:\n",
       " 0.75579   0.556175  0.589132  0.850134\n",
       " 1.46806   1.5222    1.37189   1.7645\n",
       " 0.928255  1.02621   0.67609   0.935736\n",
       " 1.30513   1.43543   1.0254    1.57297\n",
       " 1.02376   1.12445   0.630382  1.14419"
      ]
     },
     "execution_count": 10,
     "metadata": {},
     "output_type": "execute_result"
    }
   ],
   "source": [
    "B = A * x"
   ]
  },
  {
   "cell_type": "code",
   "execution_count": 11,
   "metadata": {},
   "outputs": [
    {
     "ename": "LoadError",
     "evalue": "DimensionMismatch(\"A has dimensions (5,5) but B has dimensions (6,4)\")",
     "output_type": "error",
     "traceback": [
      "DimensionMismatch(\"A has dimensions (5,5) but B has dimensions (6,4)\")",
      "",
      "Stacktrace:",
      " [1] gemm_wrapper!(::Array{Float64,2}, ::Char, ::Char, ::Array{Float64,2}, ::Array{Float64,2}, ::LinearAlgebra.MulAddMul{true,true,Bool,Bool}) at C:\\buildbot\\worker\\package_win64\\build\\usr\\share\\julia\\stdlib\\v1.5\\LinearAlgebra\\src\\matmul.jl:569",
      " [2] mul! at C:\\buildbot\\worker\\package_win64\\build\\usr\\share\\julia\\stdlib\\v1.5\\LinearAlgebra\\src\\matmul.jl:169 [inlined]",
      " [3] mul! at C:\\buildbot\\worker\\package_win64\\build\\usr\\share\\julia\\stdlib\\v1.5\\LinearAlgebra\\src\\matmul.jl:208 [inlined]",
      " [4] *(::Array{Float64,2}, ::Array{Float64,2}) at C:\\buildbot\\worker\\package_win64\\build\\usr\\share\\julia\\stdlib\\v1.5\\LinearAlgebra\\src\\matmul.jl:160",
      " [5] top-level scope at In[11]:4",
      " [6] include_string(::Function, ::Module, ::String, ::String) at .\\loading.jl:1091",
      " [7] execute_code(::String, ::String) at C:\\Users\\Aman\\.julia\\packages\\IJulia\\a1SNk\\src\\execute_request.jl:27",
      " [8] execute_request(::ZMQ.Socket, ::IJulia.Msg) at C:\\Users\\Aman\\.julia\\packages\\IJulia\\a1SNk\\src\\execute_request.jl:86",
      " [9] #invokelatest#1 at .\\essentials.jl:710 [inlined]",
      " [10] invokelatest at .\\essentials.jl:709 [inlined]",
      " [11] eventloop(::ZMQ.Socket) at C:\\Users\\Aman\\.julia\\packages\\IJulia\\a1SNk\\src\\eventloop.jl:8",
      " [12] (::IJulia.var\"#15#18\")() at .\\task.jl:356"
     ]
    }
   ],
   "source": [
    "# will result in error \n",
    "# if n_columns of first matrix != n_rows of second matrix\n",
    "y = rand(6,4)\n",
    "C = A * y"
   ]
  },
  {
   "cell_type": "markdown",
   "metadata": {},
   "source": [
    "Now let us see a very powerful operator in Julia— The backslash or inversed division operator (\\)."
   ]
  },
  {
   "cell_type": "code",
   "execution_count": 12,
   "metadata": {},
   "outputs": [
    {
     "data": {
      "text/plain": [
       "5×4 Array{Float64,2}:\n",
       " 0.40667   0.86808    0.180387   0.365725\n",
       " 0.495175  0.689242   0.892334   0.873119\n",
       " 0.803149  0.579325   0.500757   0.705469\n",
       " 0.201754  0.0701747  0.267047   0.29294\n",
       " 0.163542  0.196368   0.0283078  0.31822"
      ]
     },
     "execution_count": 12,
     "metadata": {},
     "output_type": "execute_result"
    }
   ],
   "source": [
    "X = A \\ B  # inv(A) * A * x = inv(A) * B => x = inv(A) * B"
   ]
  },
  {
   "cell_type": "code",
   "execution_count": 13,
   "metadata": {},
   "outputs": [
    {
     "data": {
      "text/plain": [
       "4.1890824311343064e-15"
      ]
     },
     "execution_count": 13,
     "metadata": {},
     "output_type": "execute_result"
    }
   ],
   "source": [
    "# norm of the matrices tends to 0\n",
    "norm(X - x)"
   ]
  },
  {
   "cell_type": "markdown",
   "metadata": {},
   "source": [
    "The inverse division operator can be used to solve matrices quickly. In case the matrix A is not invertible, the solution obtained by the inverse division will be such that the norm of x - x_calc will be minimum.\n",
    "\n",
    "Now let us have a look at the different kinds of factorizations using the `LinearAlgebra` module."
   ]
  },
  {
   "cell_type": "markdown",
   "metadata": {},
   "source": [
    "#### 1. LU Decomposition\n",
    "---\n",
    "\n",
    "Note- True LU (or LDU) decomposition is only possible for square matrices that are invertible, and have all the leading minors as 0. On the other hand, all the square matrices can be factorized into the PLU form.  \n",
    "\n",
    "Therefore, LU factorization can be expressed in the form of a linear equation as:\n",
    "`A = P.L.U`\n",
    "\n",
    "Now let us see how you can perform LU factorization using Julia."
   ]
  },
  {
   "cell_type": "code",
   "execution_count": 14,
   "metadata": {},
   "outputs": [
    {
     "data": {
      "text/plain": [
       "4×4 Array{Float64,2}:\n",
       " 0.89313   0.0989117  0.0323763  0.341025\n",
       " 0.28557   0.306644   0.977148   0.0360708\n",
       " 0.105629  0.256303   0.391752   0.395309\n",
       " 0.459913  0.998694   0.192612   0.829403"
      ]
     },
     "execution_count": 14,
     "metadata": {},
     "output_type": "execute_result"
    }
   ],
   "source": [
    "A = rand(4, 4)"
   ]
  },
  {
   "cell_type": "code",
   "execution_count": 15,
   "metadata": {},
   "outputs": [
    {
     "data": {
      "text/plain": [
       "LU{Float64,Array{Float64,2}}\n",
       "L factor:\n",
       "4×4 Array{Float64,2}:\n",
       " 1.0       0.0       0.0      0.0\n",
       " 0.514945  1.0       0.0      0.0\n",
       " 0.319741  0.290177  1.0      0.0\n",
       " 0.118269  0.258087  0.37403  1.0\n",
       "U factor:\n",
       "4×4 Array{Float64,2}:\n",
       " 0.89313  0.0989117  0.0323763   0.341025\n",
       " 0.0      0.94776    0.17594     0.653794\n",
       " 0.0      0.0        0.915742   -0.262685\n",
       " 0.0      0.0        0.0         0.284492"
      ]
     },
     "execution_count": 15,
     "metadata": {},
     "output_type": "execute_result"
    }
   ],
   "source": [
    "# performing LU factorization on A\n",
    "LuA = lu(A)"
   ]
  },
  {
   "cell_type": "code",
   "execution_count": 16,
   "metadata": {},
   "outputs": [
    {
     "data": {
      "text/plain": [
       "0.0"
      ]
     },
     "execution_count": 16,
     "metadata": {},
     "output_type": "execute_result"
    }
   ],
   "source": [
    "# verifying if the factorization was successful by checking the norn\n",
    "norm(LuA.P*A - LuA.L*LuA.U)"
   ]
  },
  {
   "cell_type": "markdown",
   "metadata": {},
   "source": [
    "As you can see, the norm tends to approach 0 (Not Exactly 0 due to machine precision).\n",
    "\n",
    "#### 2. QR Factorization\n",
    "---\n",
    "\n",
    "QR factorization can be used to factorize a rectangular matrix. \n",
    "Here A is the matrix of size m x n that we wish to decompose, Q a matrix with the size m x m, and R is an upper triangle matrix with the size m x n.\n",
    "\n",
    "The QR factorization can be expressed in terms of an algebraic equation as follows:\n",
    "`A = QR`\n",
    "This is how you can perform the factorization using Julia:"
   ]
  },
  {
   "cell_type": "code",
   "execution_count": 17,
   "metadata": {},
   "outputs": [
    {
     "data": {
      "text/plain": [
       "4×5 Array{Float64,2}:\n",
       " 0.615109  0.176513  0.506827   0.188952  0.379396\n",
       " 0.776045  0.063903  0.214639   0.014946  0.384126\n",
       " 0.821165  0.216574  0.0889405  0.499886  0.660166\n",
       " 0.978466  0.795466  0.382417   0.258609  0.926754"
      ]
     },
     "execution_count": 17,
     "metadata": {},
     "output_type": "execute_result"
    }
   ],
   "source": [
    "# creating a rectangular 4x5 array \n",
    "B = rand(4, 5)"
   ]
  },
  {
   "cell_type": "code",
   "execution_count": 18,
   "metadata": {},
   "outputs": [
    {
     "data": {
      "text/plain": [
       "LinearAlgebra.QRCompactWY{Float64,Array{Float64,2}}\n",
       "Q factor:\n",
       "4×4 LinearAlgebra.QRCompactWYQ{Float64,Array{Float64,2}}:\n",
       " -0.380574  -0.175457   0.849558   -0.320357\n",
       " -0.480147  -0.545794  -0.0702203   0.683108\n",
       " -0.508063  -0.273193  -0.521192   -0.628964\n",
       " -0.605387   0.772457  -0.0409746   0.187452\n",
       "R factor:\n",
       "4×5 Array{Float64,2}:\n",
       " -1.61627  -0.689457  -0.572641   -0.489619   -1.22528\n",
       "  0.0       0.489448   0.0650278   0.0218886   0.259303\n",
       "  0.0       0.0        0.353483   -0.111657   -0.0867005\n",
       "  0.0       0.0        0.0        -0.316256   -0.100641"
      ]
     },
     "execution_count": 18,
     "metadata": {},
     "output_type": "execute_result"
    }
   ],
   "source": [
    "# performing QR decomposition\n",
    "qrB = qr(B)"
   ]
  },
  {
   "cell_type": "code",
   "execution_count": 19,
   "metadata": {},
   "outputs": [
    {
     "data": {
      "text/plain": [
       "3.825842074281555e-16"
      ]
     },
     "execution_count": 19,
     "metadata": {},
     "output_type": "execute_result"
    }
   ],
   "source": [
    "# checking if the factorization was successfully performed\n",
    "norm(qrB.Q*qrB.R - B)"
   ]
  },
  {
   "cell_type": "markdown",
   "metadata": {},
   "source": [
    "Once again, as we can see, the norm came out to be almost zero, due to the machine precision. Hence, this confirms that the factorization was a valid one.\n",
    "\n",
    "#### 3. Cholesky Factorization\n",
    "---\n",
    "\n",
    "One this to note is that for a matrix to be Cholesky-factorizable, it needs to be a positive definite matrix. \n",
    "\n",
    "```\n",
    "Cholesky factorization decomposses a matrix A into two parts:\n",
    "  1. A lower triangular matrix L\n",
    "  2. A conjugate transpose of matrix L, L* \n",
    "\n",
    "This can be expressed algebraicly as:\n",
    "  A = LL*\n",
    "```\n",
    "\n",
    "Let us see how we can perform Cholesky factorization using Julia."
   ]
  },
  {
   "cell_type": "code",
   "execution_count": 27,
   "metadata": {},
   "outputs": [
    {
     "data": {
      "text/plain": [
       "5×5 Array{Float64,2}:\n",
       " 0.781327  0.794665  0.894946  0.686603  0.931412\n",
       " 0.794665  1.50148   1.29782   0.900533  1.2269\n",
       " 0.894946  1.29782   1.82571   1.24699   1.78543\n",
       " 0.686603  0.900533  1.24699   1.43983   1.27417\n",
       " 0.931412  1.2269    1.78543   1.27417   2.0282"
      ]
     },
     "execution_count": 27,
     "metadata": {},
     "output_type": "execute_result"
    }
   ],
   "source": [
    "# defining a matrix C\n",
    "C = rand(5, 5)\n",
    "C = C*C'"
   ]
  },
  {
   "cell_type": "code",
   "execution_count": 28,
   "metadata": {},
   "outputs": [
    {
     "data": {
      "text/plain": [
       "true"
      ]
     },
     "execution_count": 28,
     "metadata": {},
     "output_type": "execute_result"
    }
   ],
   "source": [
    "# checking if the defined matrix is a positive definite matrix\n",
    "isposdef(C)"
   ]
  },
  {
   "cell_type": "code",
   "execution_count": 31,
   "metadata": {},
   "outputs": [
    {
     "data": {
      "text/plain": [
       "Cholesky{Float64,Array{Float64,2}}\n",
       "U factor:\n",
       "5×5 UpperTriangular{Float64,Array{Float64,2}}:\n",
       " 0.883927  0.899016  1.01247   0.776765  1.05372\n",
       "  ⋅        0.832619  0.465519  0.24286   0.335798\n",
       "  ⋅         ⋅        0.764145  0.454738  0.735794\n",
       "  ⋅         ⋅         ⋅        0.755447  0.0523278\n",
       "  ⋅         ⋅         ⋅         ⋅        0.510859"
      ]
     },
     "execution_count": 31,
     "metadata": {},
     "output_type": "execute_result"
    }
   ],
   "source": [
    "# performing cholesky factorization\n",
    "cholC = cholesky(C)"
   ]
  },
  {
   "cell_type": "code",
   "execution_count": 32,
   "metadata": {},
   "outputs": [
    {
     "data": {
      "text/plain": [
       "2.482534153247273e-16"
      ]
     },
     "execution_count": 32,
     "metadata": {},
     "output_type": "execute_result"
    }
   ],
   "source": [
    "# checking if the factorization was successful\n",
    "norm(cholC.L * cholC.U - C)"
   ]
  },
  {
   "cell_type": "markdown",
   "metadata": {},
   "source": [
    "As we can see, the factorization was successful. The reason is because the norm almost tends to 0 (not exactly 0 due to computer precision).\n",
    "\n",
    "Now we are going to have a look at one-method-do-all factorization function in Julia that automatically detects the kind of matrix that you are using, then performs the best suitable factorization for that given matrix. \n",
    "\n",
    "> One quirk here is that since the matrix will be evaluated on various parameters for deciding the most suitable factorization, this method tends to be generally slower than when you manually define the kind of factorization that you want. So, it's faster to know what is the best suitable factorization for a given matrix than letting Julia decide on its own. \n",
    "\n",
    "#### 4. Factorize Method\n",
    "---\n",
    "\n",
    "Let's just simply take a look at the `factorize()` method's documentation to see how it works. "
   ]
  },
  {
   "cell_type": "code",
   "execution_count": 33,
   "metadata": {},
   "outputs": [
    {
     "name": "stdout",
     "output_type": "stream",
     "text": [
      "search: \u001b[0m\u001b[1mf\u001b[22m\u001b[0m\u001b[1ma\u001b[22m\u001b[0m\u001b[1mc\u001b[22m\u001b[0m\u001b[1mt\u001b[22m\u001b[0m\u001b[1mo\u001b[22m\u001b[0m\u001b[1mr\u001b[22m\u001b[0m\u001b[1mi\u001b[22m\u001b[0m\u001b[1mz\u001b[22m\u001b[0m\u001b[1me\u001b[22m \u001b[0m\u001b[1mF\u001b[22m\u001b[0m\u001b[1ma\u001b[22m\u001b[0m\u001b[1mc\u001b[22m\u001b[0m\u001b[1mt\u001b[22m\u001b[0m\u001b[1mo\u001b[22m\u001b[0m\u001b[1mr\u001b[22m\u001b[0m\u001b[1mi\u001b[22m\u001b[0m\u001b[1mz\u001b[22mation \u001b[0m\u001b[1mf\u001b[22m\u001b[0m\u001b[1ma\u001b[22m\u001b[0m\u001b[1mc\u001b[22m\u001b[0m\u001b[1mt\u001b[22m\u001b[0m\u001b[1mo\u001b[22m\u001b[0m\u001b[1mr\u001b[22m\u001b[0m\u001b[1mi\u001b[22mal\n",
      "\n"
     ]
    },
    {
     "data": {
      "text/latex": [
       "\\begin{verbatim}\n",
       "factorize(A)\n",
       "\\end{verbatim}\n",
       "Compute a convenient factorization of \\texttt{A}, based upon the type of the input matrix. \\texttt{factorize} checks \\texttt{A} to see if it is symmetric/triangular/etc. if \\texttt{A} is passed as a generic matrix. \\texttt{factorize} checks every element of \\texttt{A} to verify/rule out each property. It will short-circuit as soon as it can rule out symmetry/triangular structure. The return value can be reused for efficient solving of multiple systems. For example: \\texttt{A=factorize(A); x=A{\\textbackslash}b; y=A{\\textbackslash}C}.\n",
       "\n",
       "\\begin{tabular}\n",
       "{l | l}\n",
       "Properties of \\texttt{A} & type of factorization \\\\\n",
       "\\hline\n",
       "Positive-definite & Cholesky (see \\href{@ref}{\\texttt{cholesky}}) \\\\\n",
       "Dense Symmetric/Hermitian & Bunch-Kaufman (see \\href{@ref}{\\texttt{bunchkaufman}}) \\\\\n",
       "Sparse Symmetric/Hermitian & LDLt (see \\href{@ref}{\\texttt{ldlt}}) \\\\\n",
       "Triangular & Triangular \\\\\n",
       "Diagonal & Diagonal \\\\\n",
       "Bidiagonal & Bidiagonal \\\\\n",
       "Tridiagonal & LU (see \\href{@ref}{\\texttt{lu}}) \\\\\n",
       "Symmetric real tridiagonal & LDLt (see \\href{@ref}{\\texttt{ldlt}}) \\\\\n",
       "General square & LU (see \\href{@ref}{\\texttt{lu}}) \\\\\n",
       "General non-square & QR (see \\href{@ref}{\\texttt{qr}}) \\\\\n",
       "\\end{tabular}\n",
       "If \\texttt{factorize} is called on a Hermitian positive-definite matrix, for instance, then \\texttt{factorize} will return a Cholesky factorization.\n",
       "\n",
       "\\section{Examples}\n",
       "\\begin{verbatim}\n",
       "julia> A = Array(Bidiagonal(fill(1.0, (5, 5)), :U))\n",
       "5×5 Array{Float64,2}:\n",
       " 1.0  1.0  0.0  0.0  0.0\n",
       " 0.0  1.0  1.0  0.0  0.0\n",
       " 0.0  0.0  1.0  1.0  0.0\n",
       " 0.0  0.0  0.0  1.0  1.0\n",
       " 0.0  0.0  0.0  0.0  1.0\n",
       "\n",
       "julia> factorize(A) # factorize will check to see that A is already factorized\n",
       "5×5 Bidiagonal{Float64,Array{Float64,1}}:\n",
       " 1.0  1.0   ⋅    ⋅    ⋅\n",
       "  ⋅   1.0  1.0   ⋅    ⋅\n",
       "  ⋅    ⋅   1.0  1.0   ⋅\n",
       "  ⋅    ⋅    ⋅   1.0  1.0\n",
       "  ⋅    ⋅    ⋅    ⋅   1.0\n",
       "\\end{verbatim}\n",
       "This returns a \\texttt{5×5 Bidiagonal\\{Float64\\}}, which can now be passed to other linear algebra functions (e.g. eigensolvers) which will use specialized methods for \\texttt{Bidiagonal} types.\n",
       "\n"
      ],
      "text/markdown": [
       "```\n",
       "factorize(A)\n",
       "```\n",
       "\n",
       "Compute a convenient factorization of `A`, based upon the type of the input matrix. `factorize` checks `A` to see if it is symmetric/triangular/etc. if `A` is passed as a generic matrix. `factorize` checks every element of `A` to verify/rule out each property. It will short-circuit as soon as it can rule out symmetry/triangular structure. The return value can be reused for efficient solving of multiple systems. For example: `A=factorize(A); x=A\\b; y=A\\C`.\n",
       "\n",
       "| Properties of `A`          | type of factorization                      |\n",
       "|:-------------------------- |:------------------------------------------ |\n",
       "| Positive-definite          | Cholesky (see [`cholesky`](@ref))          |\n",
       "| Dense Symmetric/Hermitian  | Bunch-Kaufman (see [`bunchkaufman`](@ref)) |\n",
       "| Sparse Symmetric/Hermitian | LDLt (see [`ldlt`](@ref))                  |\n",
       "| Triangular                 | Triangular                                 |\n",
       "| Diagonal                   | Diagonal                                   |\n",
       "| Bidiagonal                 | Bidiagonal                                 |\n",
       "| Tridiagonal                | LU (see [`lu`](@ref))                      |\n",
       "| Symmetric real tridiagonal | LDLt (see [`ldlt`](@ref))                  |\n",
       "| General square             | LU (see [`lu`](@ref))                      |\n",
       "| General non-square         | QR (see [`qr`](@ref))                      |\n",
       "\n",
       "If `factorize` is called on a Hermitian positive-definite matrix, for instance, then `factorize` will return a Cholesky factorization.\n",
       "\n",
       "# Examples\n",
       "\n",
       "```jldoctest\n",
       "julia> A = Array(Bidiagonal(fill(1.0, (5, 5)), :U))\n",
       "5×5 Array{Float64,2}:\n",
       " 1.0  1.0  0.0  0.0  0.0\n",
       " 0.0  1.0  1.0  0.0  0.0\n",
       " 0.0  0.0  1.0  1.0  0.0\n",
       " 0.0  0.0  0.0  1.0  1.0\n",
       " 0.0  0.0  0.0  0.0  1.0\n",
       "\n",
       "julia> factorize(A) # factorize will check to see that A is already factorized\n",
       "5×5 Bidiagonal{Float64,Array{Float64,1}}:\n",
       " 1.0  1.0   ⋅    ⋅    ⋅\n",
       "  ⋅   1.0  1.0   ⋅    ⋅\n",
       "  ⋅    ⋅   1.0  1.0   ⋅\n",
       "  ⋅    ⋅    ⋅   1.0  1.0\n",
       "  ⋅    ⋅    ⋅    ⋅   1.0\n",
       "```\n",
       "\n",
       "This returns a `5×5 Bidiagonal{Float64}`, which can now be passed to other linear algebra functions (e.g. eigensolvers) which will use specialized methods for `Bidiagonal` types.\n"
      ],
      "text/plain": [
       "\u001b[36m  factorize(A)\u001b[39m\n",
       "\n",
       "  Compute a convenient factorization of \u001b[36mA\u001b[39m, based upon the type of the input\n",
       "  matrix. \u001b[36mfactorize\u001b[39m checks \u001b[36mA\u001b[39m to see if it is symmetric/triangular/etc. if \u001b[36mA\u001b[39m is\n",
       "  passed as a generic matrix. \u001b[36mfactorize\u001b[39m checks every element of \u001b[36mA\u001b[39m to\n",
       "  verify/rule out each property. It will short-circuit as soon as it can rule\n",
       "  out symmetry/triangular structure. The return value can be reused for\n",
       "  efficient solving of multiple systems. For example: \u001b[36mA=factorize(A); x=A\\b;\n",
       "  y=A\\C\u001b[39m.\n",
       "\n",
       "  Properties of \u001b[36mA\u001b[39m            type of factorization           \n",
       "  –––––––––––––––––––––––––– ––––––––––––––––––––––––––––––––\n",
       "  Positive-definite          Cholesky (see \u001b[36mcholesky\u001b[39m)         \n",
       "  Dense Symmetric/Hermitian  Bunch-Kaufman (see \u001b[36mbunchkaufman\u001b[39m)\n",
       "  Sparse Symmetric/Hermitian LDLt (see \u001b[36mldlt\u001b[39m)                 \n",
       "  Triangular                 Triangular                      \n",
       "  Diagonal                   Diagonal                        \n",
       "  Bidiagonal                 Bidiagonal                      \n",
       "  Tridiagonal                LU (see \u001b[36mlu\u001b[39m)                     \n",
       "  Symmetric real tridiagonal LDLt (see \u001b[36mldlt\u001b[39m)                 \n",
       "  General square             LU (see \u001b[36mlu\u001b[39m)                     \n",
       "  General non-square         QR (see \u001b[36mqr\u001b[39m)                     \n",
       "\n",
       "  If \u001b[36mfactorize\u001b[39m is called on a Hermitian positive-definite matrix, for\n",
       "  instance, then \u001b[36mfactorize\u001b[39m will return a Cholesky factorization.\n",
       "\n",
       "\u001b[1m  Examples\u001b[22m\n",
       "\u001b[1m  ≡≡≡≡≡≡≡≡≡≡\u001b[22m\n",
       "\n",
       "\u001b[36m  julia> A = Array(Bidiagonal(fill(1.0, (5, 5)), :U))\u001b[39m\n",
       "\u001b[36m  5×5 Array{Float64,2}:\u001b[39m\n",
       "\u001b[36m   1.0  1.0  0.0  0.0  0.0\u001b[39m\n",
       "\u001b[36m   0.0  1.0  1.0  0.0  0.0\u001b[39m\n",
       "\u001b[36m   0.0  0.0  1.0  1.0  0.0\u001b[39m\n",
       "\u001b[36m   0.0  0.0  0.0  1.0  1.0\u001b[39m\n",
       "\u001b[36m   0.0  0.0  0.0  0.0  1.0\u001b[39m\n",
       "\u001b[36m  \u001b[39m\n",
       "\u001b[36m  julia> factorize(A) # factorize will check to see that A is already factorized\u001b[39m\n",
       "\u001b[36m  5×5 Bidiagonal{Float64,Array{Float64,1}}:\u001b[39m\n",
       "\u001b[36m   1.0  1.0   ⋅    ⋅    ⋅\u001b[39m\n",
       "\u001b[36m    ⋅   1.0  1.0   ⋅    ⋅\u001b[39m\n",
       "\u001b[36m    ⋅    ⋅   1.0  1.0   ⋅\u001b[39m\n",
       "\u001b[36m    ⋅    ⋅    ⋅   1.0  1.0\u001b[39m\n",
       "\u001b[36m    ⋅    ⋅    ⋅    ⋅   1.0\u001b[39m\n",
       "\n",
       "  This returns a \u001b[36m5×5 Bidiagonal{Float64}\u001b[39m, which can now be passed to other\n",
       "  linear algebra functions (e.g. eigensolvers) which will use specialized\n",
       "  methods for \u001b[36mBidiagonal\u001b[39m types."
      ]
     },
     "execution_count": 33,
     "metadata": {},
     "output_type": "execute_result"
    }
   ],
   "source": [
    "?factorize"
   ]
  },
  {
   "cell_type": "code",
   "execution_count": null,
   "metadata": {},
   "outputs": [],
   "source": []
  }
 ],
 "metadata": {
  "kernelspec": {
   "display_name": "JuliaPro_v1.5.3-1 1.5.3",
   "language": "julia",
   "name": "juliapro_v1.5.3-1-1.5"
  },
  "language_info": {
   "file_extension": ".jl",
   "mimetype": "application/julia",
   "name": "julia",
   "version": "1.5.3"
  }
 },
 "nbformat": 4,
 "nbformat_minor": 4
}
