{
 "cells": [
  {
   "cell_type": "markdown",
   "metadata": {},
   "source": [
    "# Julia- Linear Algebra \n",
    "---\n",
    "\n",
    "In this more math-centric notebook, we will understand how you can leverage Julia to perform all sorts of algrbraic operations, that are a key to a bunch of operations involved in Data Science.\n",
    "\n",
    "## Importing Dependencies\n",
    "---\n",
    "\n",
    "Here are some of the important modules in Julia:\n",
    "\n",
    "* __LinearAlgebra__: As the name suggests, it provides a set of very powerful linear algrebra functions.\n",
    "* __SparseArrays__: Another popular linear algrbra module in Julia\n",
    "* __Images__: Used for handling image data"
   ]
  },
  {
   "cell_type": "code",
   "execution_count": 2,
   "metadata": {},
   "outputs": [],
   "source": [
    "using LinearAlgebra\n",
    "using SparseArrays\n",
    "using Images\n",
    "using MAT"
   ]
  },
  {
   "cell_type": "markdown",
   "metadata": {},
   "source": [
    "For checking the documentation associated with any module or any methods associated with the module, use the '?' help operator."
   ]
  },
  {
   "cell_type": "code",
   "execution_count": 3,
   "metadata": {},
   "outputs": [
    {
     "name": "stdout",
     "output_type": "stream",
     "text": [
      "search: \u001b[0m\u001b[1mL\u001b[22m\u001b[0m\u001b[1mi\u001b[22m\u001b[0m\u001b[1mn\u001b[22m\u001b[0m\u001b[1me\u001b[22m\u001b[0m\u001b[1ma\u001b[22m\u001b[0m\u001b[1mr\u001b[22m\u001b[0m\u001b[1mA\u001b[22m\u001b[0m\u001b[1ml\u001b[22m\u001b[0m\u001b[1mg\u001b[22m\u001b[0m\u001b[1me\u001b[22m\u001b[0m\u001b[1mb\u001b[22m\u001b[0m\u001b[1mr\u001b[22m\u001b[0m\u001b[1ma\u001b[22m\n",
      "\n"
     ]
    },
    {
     "data": {
      "text/latex": [
       "Linear algebra module. Provides array arithmetic, matrix factorizations and other linear algebra related functionality.\n",
       "\n"
      ],
      "text/markdown": [
       "Linear algebra module. Provides array arithmetic, matrix factorizations and other linear algebra related functionality.\n"
      ],
      "text/plain": [
       "  Linear algebra module. Provides array arithmetic, matrix factorizations and\n",
       "  other linear algebra related functionality."
      ]
     },
     "execution_count": 3,
     "metadata": {},
     "output_type": "execute_result"
    }
   ],
   "source": [
    "?LinearAlgebra"
   ]
  },
  {
   "cell_type": "markdown",
   "metadata": {},
   "source": [
    "Now let us see how we can create some arrays using the `LinearAlgebra` module."
   ]
  },
  {
   "cell_type": "code",
   "execution_count": 6,
   "metadata": {},
   "outputs": [
    {
     "data": {
      "text/plain": [
       "3×5 Array{Float64,2}:\n",
       " 0.554436   0.99092   0.653461  0.960912   0.448642\n",
       " 0.0945786  0.619584  0.692367  0.0450513  0.43399\n",
       " 0.483073   0.124243  0.866545  0.204993   0.050068"
      ]
     },
     "execution_count": 6,
     "metadata": {},
     "output_type": "execute_result"
    }
   ],
   "source": [
    "# creating a matrix of random numbers\n",
    "arr1 = rand(3,5)"
   ]
  },
  {
   "cell_type": "code",
   "execution_count": 7,
   "metadata": {},
   "outputs": [
    {
     "data": {
      "text/plain": [
       "5×5 Array{Float64,2}:\n",
       "  1.96129   -0.750314   0.34446    -0.0570964  -0.598404\n",
       " -0.23454   -1.60954   -0.0124827  -0.483841    0.0174972\n",
       " -1.33929   -1.33375    1.00835    -0.754617   -0.107367\n",
       " -0.313593  -0.207912  -0.270004    0.0774414  -0.914073\n",
       "  0.106371  -0.733196   1.53916    -1.15827    -1.23696"
      ]
     },
     "execution_count": 7,
     "metadata": {},
     "output_type": "execute_result"
    }
   ],
   "source": [
    "# creating a matrix of random numbers from standard normal dist\n",
    "arr2 = randn(5,5)"
   ]
  },
  {
   "cell_type": "markdown",
   "metadata": {},
   "source": [
    "Now let us have a look at some of the basic matrix operations that you can perform on matrices/vectors using `LinearAlgebra`."
   ]
  },
  {
   "cell_type": "code",
   "execution_count": 8,
   "metadata": {},
   "outputs": [
    {
     "data": {
      "text/plain": [
       "5×3 Adjoint{Float64,Array{Float64,2}}:\n",
       " 0.554436  0.0945786  0.483073\n",
       " 0.99092   0.619584   0.124243\n",
       " 0.653461  0.692367   0.866545\n",
       " 0.960912  0.0450513  0.204993\n",
       " 0.448642  0.43399    0.050068"
      ]
     },
     "execution_count": 8,
     "metadata": {},
     "output_type": "execute_result"
    }
   ],
   "source": [
    "# transpose of a matrix\n",
    "arr1_T = arr1'"
   ]
  },
  {
   "cell_type": "code",
   "execution_count": 12,
   "metadata": {},
   "outputs": [
    {
     "data": {
      "text/plain": [
       "1×10 Adjoint{Float64,Array{Float64,1}}:\n",
       " -1.65492  0.00457313  0.587405  0.217335  …  0.69192  0.251731  -0.0207097"
      ]
     },
     "execution_count": 12,
     "metadata": {},
     "output_type": "execute_result"
    }
   ],
   "source": [
    "# transpose of a vector\n",
    "vec1 = randn(10)\n",
    "vec1_T = vec1'"
   ]
  },
  {
   "cell_type": "code",
   "execution_count": 18,
   "metadata": {},
   "outputs": [
    {
     "data": {
      "text/plain": [
       "8.887942652528404e-16"
      ]
     },
     "execution_count": 18,
     "metadata": {},
     "output_type": "execute_result"
    }
   ],
   "source": [
    "# inverse of a matrix\n",
    "arr2_inv = inv(arr2)\n",
    "\n",
    "# checking if it's an inverse\n",
    "norm(arr2_inv * arr2 - I(5))"
   ]
  },
  {
   "cell_type": "markdown",
   "metadata": {},
   "source": [
    "As we can see, the norm of the matrx __A<sup>-</sup> * A__ and __I__ (identity matrix) is a negligible number."
   ]
  },
  {
   "cell_type": "code",
   "execution_count": 42,
   "metadata": {},
   "outputs": [
    {
     "data": {
      "text/plain": [
       "true"
      ]
     },
     "execution_count": 42,
     "metadata": {},
     "output_type": "execute_result"
    }
   ],
   "source": [
    "# for a real valued matrix, adjoint == transpose\n",
    "adjoint(arr1) == transpose(arr1)"
   ]
  },
  {
   "cell_type": "markdown",
   "metadata": {},
   "source": [
    "Now let us have a look at some of the matrix multiplication operations."
   ]
  },
  {
   "cell_type": "code",
   "execution_count": 43,
   "metadata": {},
   "outputs": [],
   "source": [
    "A = rand(4,5)\n",
    "x = rand(5,4);"
   ]
  },
  {
   "cell_type": "code",
   "execution_count": 45,
   "metadata": {},
   "outputs": [
    {
     "data": {
      "text/plain": [
       "4×4 Array{Float64,2}:\n",
       " 1.19795  1.19227  1.53002   1.27067\n",
       " 1.28118  0.93832  0.878599  0.863324\n",
       " 1.10266  1.4281   1.96837   1.42429\n",
       " 1.70469  1.4378   1.69828   1.53292"
      ]
     },
     "execution_count": 45,
     "metadata": {},
     "output_type": "execute_result"
    }
   ],
   "source": [
    "B = A * x"
   ]
  },
  {
   "cell_type": "code",
   "execution_count": 47,
   "metadata": {},
   "outputs": [
    {
     "ename": "LoadError",
     "evalue": "DimensionMismatch(\"A has dimensions (4,5) but B has dimensions (6,4)\")",
     "output_type": "error",
     "traceback": [
      "DimensionMismatch(\"A has dimensions (4,5) but B has dimensions (6,4)\")",
      "",
      "Stacktrace:",
      " [1] gemm_wrapper!(::Array{Float64,2}, ::Char, ::Char, ::Array{Float64,2}, ::Array{Float64,2}, ::LinearAlgebra.MulAddMul{true,true,Bool,Bool}) at C:\\buildbot\\worker\\package_win64\\build\\usr\\share\\julia\\stdlib\\v1.5\\LinearAlgebra\\src\\matmul.jl:569",
      " [2] mul! at C:\\buildbot\\worker\\package_win64\\build\\usr\\share\\julia\\stdlib\\v1.5\\LinearAlgebra\\src\\matmul.jl:169 [inlined]",
      " [3] mul! at C:\\buildbot\\worker\\package_win64\\build\\usr\\share\\julia\\stdlib\\v1.5\\LinearAlgebra\\src\\matmul.jl:208 [inlined]",
      " [4] *(::Array{Float64,2}, ::Array{Float64,2}) at C:\\buildbot\\worker\\package_win64\\build\\usr\\share\\julia\\stdlib\\v1.5\\LinearAlgebra\\src\\matmul.jl:160",
      " [5] top-level scope at In[47]:4",
      " [6] include_string(::Function, ::Module, ::String, ::String) at .\\loading.jl:1091",
      " [7] execute_code(::String, ::String) at C:\\Users\\Aman\\.julia\\packages\\IJulia\\a1SNk\\src\\execute_request.jl:27",
      " [8] execute_request(::ZMQ.Socket, ::IJulia.Msg) at C:\\Users\\Aman\\.julia\\packages\\IJulia\\a1SNk\\src\\execute_request.jl:86",
      " [9] #invokelatest#1 at .\\essentials.jl:710 [inlined]",
      " [10] invokelatest at .\\essentials.jl:709 [inlined]",
      " [11] eventloop(::ZMQ.Socket) at C:\\Users\\Aman\\.julia\\packages\\IJulia\\a1SNk\\src\\eventloop.jl:8",
      " [12] (::IJulia.var\"#15#18\")() at .\\task.jl:356"
     ]
    }
   ],
   "source": [
    "# will result in error \n",
    "# if n_columns of first matrix != n_rows of second matrix\n",
    "y = rand(6,4)\n",
    "C = A * y"
   ]
  },
  {
   "cell_type": "markdown",
   "metadata": {},
   "source": [
    "Now let us see a very powedul"
   ]
  }
 ],
 "metadata": {
  "kernelspec": {
   "display_name": "JuliaPro_v1.5.3-1 1.5.3",
   "language": "julia",
   "name": "juliapro_v1.5.3-1-1.5"
  },
  "language_info": {
   "file_extension": ".jl",
   "mimetype": "application/julia",
   "name": "julia",
   "version": "1.5.3"
  }
 },
 "nbformat": 4,
 "nbformat_minor": 4
}
