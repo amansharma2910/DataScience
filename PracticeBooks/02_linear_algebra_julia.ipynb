{
 "cells": [
  {
   "cell_type": "markdown",
   "metadata": {},
   "source": [
    "# Julia- Linear Algebra \n",
    "---\n",
    "\n",
    "In this more math-centric notebook, we will understand how you can leverage Julia to perform all sorts of algrbraic operations, that are a key to a bunch of operations involved in Data Science.\n",
    "\n",
    "## Importing Dependencies\n",
    "---\n",
    "\n",
    "Here are some of the important modules in Julia:\n",
    "\n",
    "* __LinearAlgebra__: As the name suggests, it provides a set of very powerful linear algrebra functions.\n",
    "* __SparseArrays__: Another popular linear algrbra module in Julia\n",
    "* __Images__: Used for handling image data"
   ]
  },
  {
   "cell_type": "code",
   "execution_count": 1,
   "metadata": {},
   "outputs": [],
   "source": [
    "using LinearAlgebra\n",
    "using SparseArrays\n",
    "using Images\n",
    "using MAT"
   ]
  },
  {
   "cell_type": "markdown",
   "metadata": {},
   "source": [
    "For checking the documentation associated with any module or any methods associated with the module, use the '?' help operator."
   ]
  },
  {
   "cell_type": "code",
   "execution_count": 2,
   "metadata": {},
   "outputs": [
    {
     "name": "stdout",
     "output_type": "stream",
     "text": [
      "search: \u001b[0m\u001b[1mL\u001b[22m\u001b[0m\u001b[1mi\u001b[22m\u001b[0m\u001b[1mn\u001b[22m\u001b[0m\u001b[1me\u001b[22m\u001b[0m\u001b[1ma\u001b[22m\u001b[0m\u001b[1mr\u001b[22m\u001b[0m\u001b[1mA\u001b[22m\u001b[0m\u001b[1ml\u001b[22m\u001b[0m\u001b[1mg\u001b[22m\u001b[0m\u001b[1me\u001b[22m\u001b[0m\u001b[1mb\u001b[22m\u001b[0m\u001b[1mr\u001b[22m\u001b[0m\u001b[1ma\u001b[22m\n",
      "\n"
     ]
    },
    {
     "data": {
      "text/latex": [
       "Linear algebra module. Provides array arithmetic, matrix factorizations and other linear algebra related functionality.\n",
       "\n"
      ],
      "text/markdown": [
       "Linear algebra module. Provides array arithmetic, matrix factorizations and other linear algebra related functionality.\n"
      ],
      "text/plain": [
       "  Linear algebra module. Provides array arithmetic, matrix factorizations and\n",
       "  other linear algebra related functionality."
      ]
     },
     "execution_count": 2,
     "metadata": {},
     "output_type": "execute_result"
    }
   ],
   "source": [
    "?LinearAlgebra"
   ]
  },
  {
   "cell_type": "markdown",
   "metadata": {},
   "source": [
    "Now let us see how we can create some arrays using the `LinearAlgebra` module."
   ]
  },
  {
   "cell_type": "code",
   "execution_count": 3,
   "metadata": {},
   "outputs": [
    {
     "data": {
      "text/plain": [
       "3×5 Array{Float64,2}:\n",
       " 0.602223  0.785383  0.154746  0.595687  0.0632456\n",
       " 0.946485  0.482501  0.94897   0.826135  0.680998\n",
       " 0.714333  0.899483  0.690557  0.949993  0.604949"
      ]
     },
     "execution_count": 3,
     "metadata": {},
     "output_type": "execute_result"
    }
   ],
   "source": [
    "# creating a matrix of random numbers\n",
    "arr1 = rand(3,5)"
   ]
  },
  {
   "cell_type": "code",
   "execution_count": 4,
   "metadata": {},
   "outputs": [
    {
     "data": {
      "text/plain": [
       "5×5 Array{Float64,2}:\n",
       "  0.671112    0.0444103   1.95889     -0.549638   -0.935744\n",
       "  0.0655231  -0.626461   -0.965098     1.99775    -0.847514\n",
       "  0.88806    -0.469893   -0.00269384  -0.254829    0.0985695\n",
       "  1.4122      0.993896   -1.39451     -0.719355   -1.02241\n",
       " -0.287133   -0.82472    -1.62626      0.0316107   0.0932381"
      ]
     },
     "execution_count": 4,
     "metadata": {},
     "output_type": "execute_result"
    }
   ],
   "source": [
    "# creating a matrix of random numbers from standard normal dist\n",
    "arr2 = randn(5,5)"
   ]
  },
  {
   "cell_type": "markdown",
   "metadata": {},
   "source": [
    "Now let us have a look at some of the basic matrix operations that you can perform on matrices/vectors using `LinearAlgebra`."
   ]
  },
  {
   "cell_type": "code",
   "execution_count": 5,
   "metadata": {},
   "outputs": [
    {
     "data": {
      "text/plain": [
       "5×3 Adjoint{Float64,Array{Float64,2}}:\n",
       " 0.602223   0.946485  0.714333\n",
       " 0.785383   0.482501  0.899483\n",
       " 0.154746   0.94897   0.690557\n",
       " 0.595687   0.826135  0.949993\n",
       " 0.0632456  0.680998  0.604949"
      ]
     },
     "execution_count": 5,
     "metadata": {},
     "output_type": "execute_result"
    }
   ],
   "source": [
    "# transpose of a matrix\n",
    "arr1_T = arr1'"
   ]
  },
  {
   "cell_type": "code",
   "execution_count": 6,
   "metadata": {},
   "outputs": [
    {
     "data": {
      "text/plain": [
       "1×10 Adjoint{Float64,Array{Float64,1}}:\n",
       " 0.169793  1.00813  0.124186  -1.12764  …  0.67024  0.387727  0.613116"
      ]
     },
     "execution_count": 6,
     "metadata": {},
     "output_type": "execute_result"
    }
   ],
   "source": [
    "# transpose of a vector\n",
    "vec1 = randn(10)\n",
    "vec1_T = vec1'"
   ]
  },
  {
   "cell_type": "code",
   "execution_count": 7,
   "metadata": {},
   "outputs": [
    {
     "data": {
      "text/plain": [
       "6.30272276180168e-16"
      ]
     },
     "execution_count": 7,
     "metadata": {},
     "output_type": "execute_result"
    }
   ],
   "source": [
    "# inverse of a matrix\n",
    "arr2_inv = inv(arr2)\n",
    "\n",
    "# checking if it's an inverse\n",
    "norm(arr2_inv * arr2 - I(5))"
   ]
  },
  {
   "cell_type": "markdown",
   "metadata": {},
   "source": [
    "As we can see, the norm of the matrx __A<sup>-</sup> * A__ and __I__ (identity matrix) is a negligible number."
   ]
  },
  {
   "cell_type": "code",
   "execution_count": 8,
   "metadata": {},
   "outputs": [
    {
     "data": {
      "text/plain": [
       "true"
      ]
     },
     "execution_count": 8,
     "metadata": {},
     "output_type": "execute_result"
    }
   ],
   "source": [
    "# for a real valued matrix, adjoint == transpose\n",
    "adjoint(arr1) == transpose(arr1)"
   ]
  },
  {
   "cell_type": "markdown",
   "metadata": {},
   "source": [
    "Now let us have a look at some of the matrix multiplication operations."
   ]
  },
  {
   "cell_type": "code",
   "execution_count": 9,
   "metadata": {},
   "outputs": [],
   "source": [
    "A = rand(5,5)\n",
    "x = rand(5,4);"
   ]
  },
  {
   "cell_type": "code",
   "execution_count": 10,
   "metadata": {},
   "outputs": [
    {
     "data": {
      "text/plain": [
       "5×4 Array{Float64,2}:\n",
       " 0.902294  0.953586  0.711432  0.849663\n",
       " 1.40729   1.52451   1.22852   1.31961\n",
       " 1.12482   1.51417   0.682048  1.18321\n",
       " 1.07525   1.28566   0.61343   1.14018\n",
       " 0.757329  0.762361  0.53174   0.628648"
      ]
     },
     "execution_count": 10,
     "metadata": {},
     "output_type": "execute_result"
    }
   ],
   "source": [
    "B = A * x"
   ]
  },
  {
   "cell_type": "code",
   "execution_count": 11,
   "metadata": {},
   "outputs": [
    {
     "ename": "LoadError",
     "evalue": "DimensionMismatch(\"A has dimensions (5,5) but B has dimensions (6,4)\")",
     "output_type": "error",
     "traceback": [
      "DimensionMismatch(\"A has dimensions (5,5) but B has dimensions (6,4)\")",
      "",
      "Stacktrace:",
      " [1] gemm_wrapper!(::Array{Float64,2}, ::Char, ::Char, ::Array{Float64,2}, ::Array{Float64,2}, ::LinearAlgebra.MulAddMul{true,true,Bool,Bool}) at C:\\buildbot\\worker\\package_win64\\build\\usr\\share\\julia\\stdlib\\v1.5\\LinearAlgebra\\src\\matmul.jl:569",
      " [2] mul! at C:\\buildbot\\worker\\package_win64\\build\\usr\\share\\julia\\stdlib\\v1.5\\LinearAlgebra\\src\\matmul.jl:169 [inlined]",
      " [3] mul! at C:\\buildbot\\worker\\package_win64\\build\\usr\\share\\julia\\stdlib\\v1.5\\LinearAlgebra\\src\\matmul.jl:208 [inlined]",
      " [4] *(::Array{Float64,2}, ::Array{Float64,2}) at C:\\buildbot\\worker\\package_win64\\build\\usr\\share\\julia\\stdlib\\v1.5\\LinearAlgebra\\src\\matmul.jl:160",
      " [5] top-level scope at In[11]:4",
      " [6] include_string(::Function, ::Module, ::String, ::String) at .\\loading.jl:1091",
      " [7] execute_code(::String, ::String) at C:\\Users\\Aman\\.julia\\packages\\IJulia\\a1SNk\\src\\execute_request.jl:27",
      " [8] execute_request(::ZMQ.Socket, ::IJulia.Msg) at C:\\Users\\Aman\\.julia\\packages\\IJulia\\a1SNk\\src\\execute_request.jl:86",
      " [9] #invokelatest#1 at .\\essentials.jl:710 [inlined]",
      " [10] invokelatest at .\\essentials.jl:709 [inlined]",
      " [11] eventloop(::ZMQ.Socket) at C:\\Users\\Aman\\.julia\\packages\\IJulia\\a1SNk\\src\\eventloop.jl:8",
      " [12] (::IJulia.var\"#15#18\")() at .\\task.jl:356"
     ]
    }
   ],
   "source": [
    "# will result in error \n",
    "# if n_columns of first matrix != n_rows of second matrix\n",
    "y = rand(6,4)\n",
    "C = A * y"
   ]
  },
  {
   "cell_type": "markdown",
   "metadata": {},
   "source": [
    "Now let us see a very powerful operator in Julia— The backslash or inversed division operator (\\)."
   ]
  },
  {
   "cell_type": "code",
   "execution_count": 12,
   "metadata": {},
   "outputs": [
    {
     "data": {
      "text/plain": [
       "5×4 Array{Float64,2}:\n",
       " 0.702824   0.431357  0.408173   0.499097\n",
       " 0.885105   0.495379  0.799473   0.638327\n",
       " 0.181019   0.704861  0.0327674  0.573384\n",
       " 0.402509   0.461134  0.0310033  0.205411\n",
       " 0.0422553  0.364023  0.307261   0.125648"
      ]
     },
     "execution_count": 12,
     "metadata": {},
     "output_type": "execute_result"
    }
   ],
   "source": [
    "X = A \\ B  # inv(A) * A * x = inv(A) * B => x = inv(A) * B"
   ]
  },
  {
   "cell_type": "code",
   "execution_count": 13,
   "metadata": {},
   "outputs": [
    {
     "data": {
      "text/plain": [
       "1.522577378676997e-15"
      ]
     },
     "execution_count": 13,
     "metadata": {},
     "output_type": "execute_result"
    }
   ],
   "source": [
    "# norm of the matrices tends to 0\n",
    "norm(X - x)"
   ]
  },
  {
   "cell_type": "markdown",
   "metadata": {},
   "source": [
    "The inverse division operator can be used to solve matrices quickly. In case the matrix A is not invertible, the solution obtained by the inverse division will be such that the norm of x - x_calc will be minimum.\n",
    "\n",
    "Now let us have a look at the different kinds of factorizations using the `LinearAlgebra` module."
   ]
  },
  {
   "cell_type": "markdown",
   "metadata": {},
   "source": [
    "#### 1. LU Decomposition\n",
    "---\n",
    "\n",
    "Note- True LU (or LDU) decomposition is only possible for square matrices that are invertible, and have all the leading minors as 0. On the other hand, all the square matrices can be factorized into the PLU form.  \n",
    "\n",
    "Therefore, LU factorization can be expressed in the form of a linear equation as:\n",
    "`A = P.L.U`\n",
    "\n",
    "Now let us see how you can perform LU factorization using Julia."
   ]
  },
  {
   "cell_type": "code",
   "execution_count": 14,
   "metadata": {},
   "outputs": [
    {
     "data": {
      "text/plain": [
       "4×4 Array{Float64,2}:\n",
       " 0.718005  0.59213     0.13545   0.625631\n",
       " 0.452902  0.00292914  0.454041  0.939575\n",
       " 0.711521  0.0509974   0.903192  0.87954\n",
       " 0.407781  0.66001     0.077539  0.819096"
      ]
     },
     "execution_count": 14,
     "metadata": {},
     "output_type": "execute_result"
    }
   ],
   "source": [
    "A = rand(4, 4)"
   ]
  },
  {
   "cell_type": "code",
   "execution_count": 15,
   "metadata": {},
   "outputs": [
    {
     "data": {
      "text/plain": [
       "LU{Float64,Array{Float64,2}}\n",
       "L factor:\n",
       "4×4 Array{Float64,2}:\n",
       " 1.0        0.0        0.0       0.0\n",
       " 0.99097    1.0        0.0       0.0\n",
       " 0.567936  -0.604193   1.0       0.0\n",
       " 0.630778   0.691645  -0.350909  1.0\n",
       "U factor:\n",
       "4×4 Array{Float64,2}:\n",
       " 0.718005   0.59213   0.13545   0.625631\n",
       " 0.0       -0.535786  0.768965  0.259558\n",
       " 0.0        0.0       0.465215  0.620601\n",
       " 0.0        0.0       0.0       0.583194"
      ]
     },
     "execution_count": 15,
     "metadata": {},
     "output_type": "execute_result"
    }
   ],
   "source": [
    "# performing LU factorization on A\n",
    "LuA = lu(A)"
   ]
  },
  {
   "cell_type": "code",
   "execution_count": 16,
   "metadata": {},
   "outputs": [
    {
     "data": {
      "text/plain": [
       "2.7755575615628914e-17"
      ]
     },
     "execution_count": 16,
     "metadata": {},
     "output_type": "execute_result"
    }
   ],
   "source": [
    "# verifying if the factorization was successful by checking the norn\n",
    "norm(LuA.P*A - LuA.L*LuA.U)"
   ]
  },
  {
   "cell_type": "markdown",
   "metadata": {},
   "source": [
    "As you can see, the norm tends to approach 0 (Not Exactly 0 due to machine precision).\n",
    "\n",
    "#### 2. QR Factorization\n",
    "---\n",
    "\n",
    "QR factorization can be used to factorize a rectangular matrix. \n",
    "Here A is the matrix of size m x n that we wish to decompose, Q a matrix with the size m x m, and R is an upper triangle matrix with the size m x n.\n",
    "\n",
    "The QR factorization can be expressed in terms of an algebraic equation as follows:\n",
    "`A = QR`\n",
    "This is how you can perform the factorization using Julia:"
   ]
  },
  {
   "cell_type": "code",
   "execution_count": 17,
   "metadata": {},
   "outputs": [
    {
     "data": {
      "text/plain": [
       "4×5 Array{Float64,2}:\n",
       " 0.463629   0.0971371  0.667042   0.319441  0.549338\n",
       " 0.0437365  0.611987   0.995219   0.842309  0.307043\n",
       " 0.57514    0.502561   0.0945085  0.749518  0.827552\n",
       " 0.246226   0.673776   0.99449    0.127411  0.0169603"
      ]
     },
     "execution_count": 17,
     "metadata": {},
     "output_type": "execute_result"
    }
   ],
   "source": [
    "# creating a rectangular 4x5 array \n",
    "B = rand(4, 5)"
   ]
  },
  {
   "cell_type": "code",
   "execution_count": 18,
   "metadata": {},
   "outputs": [
    {
     "data": {
      "text/plain": [
       "LinearAlgebra.QRCompactWY{Float64,Array{Float64,2}}\n",
       "Q factor:\n",
       "4×4 LinearAlgebra.QRCompactWYQ{Float64,Array{Float64,2}}:\n",
       " -0.594456   0.382122     0.699292  -0.107684\n",
       " -0.056078  -0.720823     0.246856  -0.645238\n",
       " -0.737432  -0.00566483  -0.651311  -0.178761\n",
       " -0.315707  -0.578243     0.160771   0.734926\n",
       "R factor:\n",
       "4×5 Array{Float64,2}:\n",
       " -0.779922  -0.675383  -0.835998  -0.830072   -0.959394\n",
       "  0.0       -0.796469  -1.03808   -0.56301    -0.0259042\n",
       "  0.0        0.0        0.810463  -0.0363741  -0.0763242\n",
       "  0.0        0.0        0.0       -0.618235   -0.39274"
      ]
     },
     "execution_count": 18,
     "metadata": {},
     "output_type": "execute_result"
    }
   ],
   "source": [
    "# performing QR decomposition\n",
    "qrB = qr(B)"
   ]
  },
  {
   "cell_type": "code",
   "execution_count": 19,
   "metadata": {},
   "outputs": [
    {
     "data": {
      "text/plain": [
       "1.2511578073120693e-15"
      ]
     },
     "execution_count": 19,
     "metadata": {},
     "output_type": "execute_result"
    }
   ],
   "source": [
    "# checking if the factorization was successfully performed\n",
    "norm(qrB.Q*qrB.R - B)"
   ]
  },
  {
   "cell_type": "markdown",
   "metadata": {},
   "source": [
    "Once again, as we can see, the norm came out to be almost zero, due to the machine precision. Hence, this confirms that the factorization was a valid one."
   ]
  },
  {
   "cell_type": "code",
   "execution_count": null,
   "metadata": {},
   "outputs": [],
   "source": []
  }
 ],
 "metadata": {
  "kernelspec": {
   "display_name": "JuliaPro_v1.5.3-1 1.5.3",
   "language": "julia",
   "name": "juliapro_v1.5.3-1-1.5"
  },
  "language_info": {
   "file_extension": ".jl",
   "mimetype": "application/julia",
   "name": "julia",
   "version": "1.5.3"
  }
 },
 "nbformat": 4,
 "nbformat_minor": 4
}
